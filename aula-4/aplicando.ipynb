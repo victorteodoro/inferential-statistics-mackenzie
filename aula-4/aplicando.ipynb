{
 "cells": [
  {
   "cell_type": "code",
   "execution_count": 6,
   "metadata": {
    "vscode": {
     "languageId": "r"
    }
   },
   "outputs": [
    {
     "data": {
      "text/html": [
       "<table class=\"dataframe\">\n",
       "<caption>A data.frame: 6 × 2</caption>\n",
       "<thead>\n",
       "\t<tr><th></th><th scope=col>treatment</th><th scope=col>measurements</th></tr>\n",
       "\t<tr><th></th><th scope=col>&lt;dbl&gt;</th><th scope=col>&lt;dbl&gt;</th></tr>\n",
       "</thead>\n",
       "<tbody>\n",
       "\t<tr><th scope=row>1</th><td>1</td><td>20.7</td></tr>\n",
       "\t<tr><th scope=row>2</th><td>1</td><td>27.5</td></tr>\n",
       "\t<tr><th scope=row>3</th><td>1</td><td>34.4</td></tr>\n",
       "\t<tr><th scope=row>4</th><td>1</td><td>41.3</td></tr>\n",
       "\t<tr><th scope=row>5</th><td>2</td><td>17.0</td></tr>\n",
       "\t<tr><th scope=row>6</th><td>2</td><td>19.8</td></tr>\n",
       "</tbody>\n",
       "</table>\n"
      ],
      "text/latex": [
       "A data.frame: 6 × 2\n",
       "\\begin{tabular}{r|ll}\n",
       "  & treatment & measurements\\\\\n",
       "  & <dbl> & <dbl>\\\\\n",
       "\\hline\n",
       "\t1 & 1 & 20.7\\\\\n",
       "\t2 & 1 & 27.5\\\\\n",
       "\t3 & 1 & 34.4\\\\\n",
       "\t4 & 1 & 41.3\\\\\n",
       "\t5 & 2 & 17.0\\\\\n",
       "\t6 & 2 & 19.8\\\\\n",
       "\\end{tabular}\n"
      ],
      "text/markdown": [
       "\n",
       "A data.frame: 6 × 2\n",
       "\n",
       "| <!--/--> | treatment &lt;dbl&gt; | measurements &lt;dbl&gt; |\n",
       "|---|---|---|\n",
       "| 1 | 1 | 20.7 |\n",
       "| 2 | 1 | 27.5 |\n",
       "| 3 | 1 | 34.4 |\n",
       "| 4 | 1 | 41.3 |\n",
       "| 5 | 2 | 17.0 |\n",
       "| 6 | 2 | 19.8 |\n",
       "\n"
      ],
      "text/plain": [
       "  treatment measurements\n",
       "1 1         20.7        \n",
       "2 1         27.5        \n",
       "3 1         34.4        \n",
       "4 1         41.3        \n",
       "5 2         17.0        \n",
       "6 2         19.8        "
      ]
     },
     "metadata": {},
     "output_type": "display_data"
    }
   ],
   "source": [
    "treatment <- c(rep(1, 4), rep(2, 4), rep(3, 4))\n",
    "measurements <- c(20.7, 27.5, 34.4, 41.3, 17.0, 19.8, 22.7, 25.5, 10.9, 12.2, 13.4, 14.6)\n",
    "\n",
    "df <- data.frame(treatment=treatment, measurements=measurements)\n",
    "head(df)"
   ]
  },
  {
   "cell_type": "code",
   "execution_count": 8,
   "metadata": {
    "vscode": {
     "languageId": "r"
    }
   },
   "outputs": [
    {
     "data": {
      "text/plain": [
       "            Df Sum Sq Mean Sq F value Pr(>F)    \n",
       "treatment    1  662.5   662.5   23.25  7e-04 ***\n",
       "Residuals   10  284.9    28.5                   \n",
       "---\n",
       "Signif. codes:  0 ‘***’ 0.001 ‘**’ 0.01 ‘*’ 0.05 ‘.’ 0.1 ‘ ’ 1"
      ]
     },
     "metadata": {},
     "output_type": "display_data"
    }
   ],
   "source": [
    "anova <- aov(measurements ~ treatment, df)\n",
    "summary(anova)"
   ]
  }
 ],
 "metadata": {
  "kernelspec": {
   "display_name": "R",
   "language": "R",
   "name": "ir"
  },
  "language_info": {
   "codemirror_mode": "r",
   "file_extension": ".r",
   "mimetype": "text/x-r-source",
   "name": "R",
   "pygments_lexer": "r",
   "version": "4.3.3"
  }
 },
 "nbformat": 4,
 "nbformat_minor": 2
}
