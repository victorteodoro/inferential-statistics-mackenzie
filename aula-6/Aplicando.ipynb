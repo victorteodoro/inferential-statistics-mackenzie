{
 "cells": [
  {
   "cell_type": "markdown",
   "metadata": {},
   "source": [
    "# Aplicando 6\n",
    "\n",
    "---\n",
    "\n",
    "- **Aluno:** Victor Teodoro\n",
    "- **RA:** 10414609"
   ]
  },
  {
   "cell_type": "markdown",
   "metadata": {},
   "source": [
    "**Observação:** criei o modelo abaixo usando o dataset `Titanic` do `tidyverse` porque o dataset pedido no enunciado não foi disponibilizado a tempo do vencimento. "
   ]
  },
  {
   "cell_type": "code",
   "execution_count": 3,
   "metadata": {
    "vscode": {
     "languageId": "r"
    }
   },
   "outputs": [
    {
     "data": {
      "text/html": [
       "<table class=\"dataframe\">\n",
       "<caption>A data.frame: 6 × 5</caption>\n",
       "<thead>\n",
       "\t<tr><th></th><th scope=col>Class</th><th scope=col>Sex</th><th scope=col>Age</th><th scope=col>Survived</th><th scope=col>Freq</th></tr>\n",
       "\t<tr><th></th><th scope=col>&lt;fct&gt;</th><th scope=col>&lt;fct&gt;</th><th scope=col>&lt;fct&gt;</th><th scope=col>&lt;fct&gt;</th><th scope=col>&lt;dbl&gt;</th></tr>\n",
       "</thead>\n",
       "<tbody>\n",
       "\t<tr><th scope=row>1</th><td>1st </td><td>Male  </td><td>Child</td><td>No</td><td> 0</td></tr>\n",
       "\t<tr><th scope=row>2</th><td>2nd </td><td>Male  </td><td>Child</td><td>No</td><td> 0</td></tr>\n",
       "\t<tr><th scope=row>3</th><td>3rd </td><td>Male  </td><td>Child</td><td>No</td><td>35</td></tr>\n",
       "\t<tr><th scope=row>4</th><td>Crew</td><td>Male  </td><td>Child</td><td>No</td><td> 0</td></tr>\n",
       "\t<tr><th scope=row>5</th><td>1st </td><td>Female</td><td>Child</td><td>No</td><td> 0</td></tr>\n",
       "\t<tr><th scope=row>6</th><td>2nd </td><td>Female</td><td>Child</td><td>No</td><td> 0</td></tr>\n",
       "</tbody>\n",
       "</table>\n"
      ],
      "text/latex": [
       "A data.frame: 6 × 5\n",
       "\\begin{tabular}{r|lllll}\n",
       "  & Class & Sex & Age & Survived & Freq\\\\\n",
       "  & <fct> & <fct> & <fct> & <fct> & <dbl>\\\\\n",
       "\\hline\n",
       "\t1 & 1st  & Male   & Child & No &  0\\\\\n",
       "\t2 & 2nd  & Male   & Child & No &  0\\\\\n",
       "\t3 & 3rd  & Male   & Child & No & 35\\\\\n",
       "\t4 & Crew & Male   & Child & No &  0\\\\\n",
       "\t5 & 1st  & Female & Child & No &  0\\\\\n",
       "\t6 & 2nd  & Female & Child & No &  0\\\\\n",
       "\\end{tabular}\n"
      ],
      "text/markdown": [
       "\n",
       "A data.frame: 6 × 5\n",
       "\n",
       "| <!--/--> | Class &lt;fct&gt; | Sex &lt;fct&gt; | Age &lt;fct&gt; | Survived &lt;fct&gt; | Freq &lt;dbl&gt; |\n",
       "|---|---|---|---|---|---|\n",
       "| 1 | 1st  | Male   | Child | No |  0 |\n",
       "| 2 | 2nd  | Male   | Child | No |  0 |\n",
       "| 3 | 3rd  | Male   | Child | No | 35 |\n",
       "| 4 | Crew | Male   | Child | No |  0 |\n",
       "| 5 | 1st  | Female | Child | No |  0 |\n",
       "| 6 | 2nd  | Female | Child | No |  0 |\n",
       "\n"
      ],
      "text/plain": [
       "  Class Sex    Age   Survived Freq\n",
       "1 1st   Male   Child No        0  \n",
       "2 2nd   Male   Child No        0  \n",
       "3 3rd   Male   Child No       35  \n",
       "4 Crew  Male   Child No        0  \n",
       "5 1st   Female Child No        0  \n",
       "6 2nd   Female Child No        0  "
      ]
     },
     "metadata": {},
     "output_type": "display_data"
    }
   ],
   "source": [
    "library(tidyverse)\n",
    "\n",
    "data(Titanic)\n",
    "Titanic <- as.data.frame(Titanic)\n",
    "head(Titanic)\n"
   ]
  },
  {
   "cell_type": "code",
   "execution_count": 17,
   "metadata": {
    "vscode": {
     "languageId": "r"
    }
   },
   "outputs": [
    {
     "data": {
      "text/plain": [
       "                  \n",
       "binary_predictions No Yes\n",
       "               No   1   2\n",
       "               Yes  2   1"
      ]
     },
     "metadata": {},
     "output_type": "display_data"
    },
    {
     "name": "stdout",
     "output_type": "stream",
     "text": [
      "[1] \"Accuracy is:  0.333333333333333\"\n"
     ]
    },
    {
     "data": {
      "text/plain": [
       "\n",
       "Call:\n",
       "glm(formula = Survived ~ Age + Sex, family = binomial, data = train_data)\n",
       "\n",
       "Coefficients:\n",
       "              Estimate Std. Error z value Pr(>|z|)\n",
       "(Intercept)  1.542e-01  7.001e-01   0.220    0.826\n",
       "AgeAdult    -3.083e-01  7.868e-01  -0.392    0.695\n",
       "SexFemale    3.391e-16  7.891e-01   0.000    1.000\n",
       "\n",
       "(Dispersion parameter for binomial family taken to be 1)\n",
       "\n",
       "    Null deviance: 36.044  on 25  degrees of freedom\n",
       "Residual deviance: 35.890  on 23  degrees of freedom\n",
       "AIC: 41.89\n",
       "\n",
       "Number of Fisher Scoring iterations: 3\n"
      ]
     },
     "metadata": {},
     "output_type": "display_data"
    }
   ],
   "source": [
    "library(caret)\n",
    "\n",
    "Titanic$Survived <- factor(Titanic$Survived)\n",
    "\n",
    "# Quebrando em treino e teste\n",
    "set.seed(42)\n",
    "train_index <- createDataPartition(Titanic$Survived, p = 0.8, list = FALSE)\n",
    "train_data <- Titanic[train_index, ]\n",
    "test_data <- Titanic[-train_index, ]\n",
    "\n",
    "# Usando sexo, classe e idade para prever sobreviventes usando `glm`\n",
    "model <- glm(Survived ~ Age + Sex, data = train_data, family = binomial)\n",
    "\n",
    "# Fazendo predições\n",
    "predictions <- predict(model, newdata = test_data, type = \"response\")\n",
    "binary_predictions <- ifelse(predictions > 0.5, \"Yes\", \"No\")\n",
    "\n",
    "# Usando matriz e confusão para avaliar o modelo de classificação\n",
    "confusion_matrix <- table(binary_predictions, test_data$Survived)\n",
    "confusion_matrix\n",
    "\n",
    "# Calculate accuracy\n",
    "accuracy <- sum(diag(confusion_matrix)) / sum(confusion_matrix)\n",
    "print(paste(\"Accuracy is: \",  accuracy))\n",
    "\n",
    "summary(model)"
   ]
  }
 ],
 "metadata": {
  "kernelspec": {
   "display_name": "R",
   "language": "R",
   "name": "ir"
  },
  "language_info": {
   "codemirror_mode": "r",
   "file_extension": ".r",
   "mimetype": "text/x-r-source",
   "name": "R",
   "pygments_lexer": "r",
   "version": "4.3.3"
  }
 },
 "nbformat": 4,
 "nbformat_minor": 2
}
