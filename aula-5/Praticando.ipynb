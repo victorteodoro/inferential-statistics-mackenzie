{
 "cells": [
  {
   "cell_type": "markdown",
   "metadata": {},
   "source": [
    "# Praticando 5\n",
    "\n",
    "---\n",
    "\n",
    "- **Aluno:** Victor Teodoro\n",
    "- **RA:** 10414609\n",
    "- **Data**: 15 de Abril de 2024"
   ]
  },
  {
   "cell_type": "markdown",
   "metadata": {},
   "source": [
    "### Importando os dados"
   ]
  },
  {
   "cell_type": "code",
   "execution_count": 3,
   "metadata": {
    "vscode": {
     "languageId": "r"
    }
   },
   "outputs": [
    {
     "data": {
      "text/html": [
       "<table class=\"dataframe\">\n",
       "<caption>A data.frame: 6 × 4</caption>\n",
       "<thead>\n",
       "\t<tr><th></th><th scope=col>Distrito</th><th scope=col>Vendas</th><th scope=col>Empregos</th><th scope=col>População</th></tr>\n",
       "\t<tr><th></th><th scope=col>&lt;int&gt;</th><th scope=col>&lt;int&gt;</th><th scope=col>&lt;int&gt;</th><th scope=col>&lt;int&gt;</th></tr>\n",
       "</thead>\n",
       "<tbody>\n",
       "\t<tr><th scope=row>1</th><td>1</td><td>20</td><td>13</td><td>18</td></tr>\n",
       "\t<tr><th scope=row>2</th><td>2</td><td>30</td><td>15</td><td>22</td></tr>\n",
       "\t<tr><th scope=row>3</th><td>3</td><td>60</td><td>18</td><td>19</td></tr>\n",
       "\t<tr><th scope=row>4</th><td>4</td><td>70</td><td>17</td><td>26</td></tr>\n",
       "\t<tr><th scope=row>5</th><td>5</td><td>80</td><td>20</td><td>27</td></tr>\n",
       "\t<tr><th scope=row>6</th><td>6</td><td>90</td><td>22</td><td>30</td></tr>\n",
       "</tbody>\n",
       "</table>\n"
      ],
      "text/latex": [
       "A data.frame: 6 × 4\n",
       "\\begin{tabular}{r|llll}\n",
       "  & Distrito & Vendas & Empregos & População\\\\\n",
       "  & <int> & <int> & <int> & <int>\\\\\n",
       "\\hline\n",
       "\t1 & 1 & 20 & 13 & 18\\\\\n",
       "\t2 & 2 & 30 & 15 & 22\\\\\n",
       "\t3 & 3 & 60 & 18 & 19\\\\\n",
       "\t4 & 4 & 70 & 17 & 26\\\\\n",
       "\t5 & 5 & 80 & 20 & 27\\\\\n",
       "\t6 & 6 & 90 & 22 & 30\\\\\n",
       "\\end{tabular}\n"
      ],
      "text/markdown": [
       "\n",
       "A data.frame: 6 × 4\n",
       "\n",
       "| <!--/--> | Distrito &lt;int&gt; | Vendas &lt;int&gt; | Empregos &lt;int&gt; | População &lt;int&gt; |\n",
       "|---|---|---|---|---|\n",
       "| 1 | 1 | 20 | 13 | 18 |\n",
       "| 2 | 2 | 30 | 15 | 22 |\n",
       "| 3 | 3 | 60 | 18 | 19 |\n",
       "| 4 | 4 | 70 | 17 | 26 |\n",
       "| 5 | 5 | 80 | 20 | 27 |\n",
       "| 6 | 6 | 90 | 22 | 30 |\n",
       "\n"
      ],
      "text/plain": [
       "  Distrito Vendas Empregos População\n",
       "1 1        20     13       18       \n",
       "2 2        30     15       22       \n",
       "3 3        60     18       19       \n",
       "4 4        70     17       26       \n",
       "5 5        80     20       27       \n",
       "6 6        90     22       30       "
      ]
     },
     "metadata": {},
     "output_type": "display_data"
    }
   ],
   "source": [
    "sales <- read.csv(\"Estatística Preditiva - Praticando 5.csv\")\n",
    "head(sales)"
   ]
  },
  {
   "cell_type": "markdown",
   "metadata": {
    "vscode": {
     "languageId": "r"
    }
   },
   "source": [
    "### Calculando a correlação\n",
    "\n",
    "Percebemos que `Distrito` se corrlaciona fortemente com as outras variáveis. Da mesma todas as outras variáveis entre si. "
   ]
  },
  {
   "cell_type": "code",
   "execution_count": 4,
   "metadata": {
    "vscode": {
     "languageId": "r"
    }
   },
   "outputs": [
    {
     "name": "stdout",
     "output_type": "stream",
     "text": [
      "           Distrito    Vendas  Empregos População\n",
      "Distrito  1.0000000 0.9926310 0.9519075 0.9545770\n",
      "Vendas    0.9926310 1.0000000 0.9649437 0.9489897\n",
      "Empregos  0.9519075 0.9649437 1.0000000 0.9461253\n",
      "População 0.9545770 0.9489897 0.9461253 1.0000000\n"
     ]
    }
   ],
   "source": [
    "corr_matrix <- cor(sales)\n",
    "print(corr_matrix)"
   ]
  },
  {
   "cell_type": "markdown",
   "metadata": {},
   "source": [
    "### Regressão linear\n",
    "\n",
    "Utilizando `Empregos` e `População` como variáveis preditoras, calculamos um plano que melhor prediz `Vendas`. Percebemos, através dos `p-values` dos coeficientes que `Empregos` é uma boa variável preditora de `Vendas` porém `População` nem tanto. Por outro lado `R-squared` é de 0.94, o que indica que o plano preditor se aproxima bem dos dados de treinamento."
   ]
  },
  {
   "cell_type": "code",
   "execution_count": 12,
   "metadata": {
    "vscode": {
     "languageId": "r"
    }
   },
   "outputs": [
    {
     "data": {
      "text/plain": [
       "\n",
       "Call:\n",
       "lm(formula = Vendas ~ Empregos + População, data = sales)\n",
       "\n",
       "Residuals:\n",
       "    Min      1Q  Median      3Q     Max \n",
       "-12.969  -3.650  -3.211   4.369  22.683 \n",
       "\n",
       "Coefficients:\n",
       "            Estimate Std. Error t value Pr(>|t|)   \n",
       "(Intercept)  -92.074     19.073  -4.827   0.0019 **\n",
       "Empregos       6.188      2.684   2.306   0.0545 . \n",
       "População      1.919      1.549   1.239   0.2554   \n",
       "---\n",
       "Signif. codes:  0 ‘***’ 0.001 ‘**’ 0.01 ‘*’ 0.05 ‘.’ 0.1 ‘ ’ 1\n",
       "\n",
       "Residual standard error: 11.66 on 7 degrees of freedom\n",
       "Multiple R-squared:  0.9435,\tAdjusted R-squared:  0.9274 \n",
       "F-statistic: 58.45 on 2 and 7 DF,  p-value: 4.287e-05\n"
      ]
     },
     "metadata": {},
     "output_type": "display_data"
    }
   ],
   "source": [
    "reg <- lm(Vendas ~ Empregos + População, data = sales)\n",
    "\n",
    "summary(reg)"
   ]
  }
 ],
 "metadata": {
  "kernelspec": {
   "display_name": "R",
   "language": "R",
   "name": "ir"
  },
  "language_info": {
   "codemirror_mode": "r",
   "file_extension": ".r",
   "mimetype": "text/x-r-source",
   "name": "R",
   "pygments_lexer": "r",
   "version": "4.3.3"
  }
 },
 "nbformat": 4,
 "nbformat_minor": 2
}
